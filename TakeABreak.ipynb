{
 "cells": [
  {
   "cell_type": "code",
   "execution_count": null,
   "metadata": {},
   "outputs": [],
   "source": [
    "import webbrowser\n",
    "from datetime import datetime\n",
    "import time\n",
    "\n",
    "now = datetime.now()\n",
    "hour = datetime.now().hour\n",
    "\n",
    "print(\"Date: \", datetime.date(datetime.now()))\n",
    "print(\"Current time: \",datetime.time(datetime.now()) )\n",
    "\n",
    "\n",
    "while(hour>8 and hour<22):\n",
    "    #a break every 2h\n",
    "    time.sleep(2*3600)\n",
    "    myURL = \"https://www.youtube.com/watch?v=s6zR2T9vn2c\"\n",
    "    webbrowser.open(myURL, new=2) \n",
    "\n",
    "\n",
    "\n",
    "\n",
    "\n"
   ]
  },
  {
   "cell_type": "code",
   "execution_count": null,
   "metadata": {},
   "outputs": [],
   "source": []
  },
  {
   "cell_type": "code",
   "execution_count": null,
   "metadata": {},
   "outputs": [],
   "source": []
  }
 ],
 "metadata": {
  "kernelspec": {
   "display_name": "Python 3",
   "language": "python",
   "name": "python3"
  },
  "language_info": {
   "codemirror_mode": {
    "name": "ipython",
    "version": 3
   },
   "file_extension": ".py",
   "mimetype": "text/x-python",
   "name": "python",
   "nbconvert_exporter": "python",
   "pygments_lexer": "ipython3",
   "version": "3.7.2"
  }
 },
 "nbformat": 4,
 "nbformat_minor": 2
}
